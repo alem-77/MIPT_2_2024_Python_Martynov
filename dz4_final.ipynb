{
 "cells": [
  {
   "cell_type": "markdown",
   "id": "e0bda130-a626-49d8-b7f3-8ef6f72d11f3",
   "metadata": {},
   "source": [
    "# Домашнее задание 4"
   ]
  },
  {
   "cell_type": "code",
   "execution_count": 2,
   "id": "69e705f1-808f-4185-adb0-ad136f21d39c",
   "metadata": {},
   "outputs": [],
   "source": [
    " !pip install kaggle-environments\n",
    "# !pip install termcolor pygame chex"
   ]
  },
  {
   "cell_type": "code",
   "execution_count": 3,
   "id": "d9018cd6-6ecc-4576-8a1a-5acb8a4ad4ee",
   "metadata": {},
   "outputs": [
    {
     "name": "stdout",
     "output_type": "stream",
     "text": [
      "Loading environment lux_ai_s3 failed: No module named 'gymnax'\n"
     ]
    }
   ],
   "source": [
    "# Подключаем нужные библиотеки\n",
    "from kaggle_environments import make, evaluate\n",
    "import numpy as np\n",
    "import random\n",
    "import pandas as pd\n"
   ]
  },
  {
   "cell_type": "code",
   "execution_count": 4,
   "id": "76f47aeb-2a76-4dbb-943d-7fe0b7d9fe43",
   "metadata": {},
   "outputs": [],
   "source": [
    "# Обозначения для ходов:\n",
    "# 0 - камень\n",
    "# 1 - бумага\n",
    "# 2 - ножницы\n",
    "\n",
    "# Создаем окружение для игры с заданным количеством шагов (ходов)\n",
    "env = make(\"rps\", configuration={\"episodeSteps\": 100})"
   ]
  },
  {
   "cell_type": "markdown",
   "id": "93340dd9-f717-4ef2-920a-d33c1e8145d9",
   "metadata": {},
   "source": [
    "### Реализуем простейших ботов для игры в камень-ножницы-бумага"
   ]
  },
  {
   "cell_type": "markdown",
   "id": "41f67548-c56e-48ad-bfc4-32a33e989247",
   "metadata": {},
   "source": [
    "Агент 001: Всегда выбирает камень"
   ]
  },
  {
   "cell_type": "code",
   "execution_count": 5,
   "id": "95c5fd52-da29-47d5-9fa8-0ee6ffe5c598",
   "metadata": {},
   "outputs": [
    {
     "name": "stdout",
     "output_type": "stream",
     "text": [
      "Overwriting mason.py\n"
     ]
    }
   ],
   "source": [
    "%%writefile mason.py\n",
    "# Всегда выбирает камень\n",
    "def mason(observation, configuration):\n",
    "    return 0"
   ]
  },
  {
   "cell_type": "markdown",
   "id": "9ca2622b-f1ee-4388-b77d-cfc2686236c0",
   "metadata": {},
   "source": [
    "Агент 002: Всегда выбирает ножницы"
   ]
  },
  {
   "cell_type": "code",
   "execution_count": 6,
   "id": "68c5ced0-0481-4cb6-8fbe-68d253505405",
   "metadata": {},
   "outputs": [
    {
     "name": "stdout",
     "output_type": "stream",
     "text": [
      "Overwriting taylor.py\n"
     ]
    }
   ],
   "source": [
    "%%writefile taylor.py\n",
    "# Всегда выбирает ножницы\n",
    "def taylor(observation, configuration):\n",
    "    return 2"
   ]
  },
  {
   "cell_type": "markdown",
   "id": "dfd73ecf-0193-46c8-a63f-30c926bc88b6",
   "metadata": {},
   "source": [
    "Агент 003: Всегда выбирает бумагу"
   ]
  },
  {
   "cell_type": "code",
   "execution_count": 7,
   "id": "eb422721-974d-46e9-9c59-08acc02b9173",
   "metadata": {},
   "outputs": [
    {
     "name": "stdout",
     "output_type": "stream",
     "text": [
      "Overwriting writer.py\n"
     ]
    }
   ],
   "source": [
    "%%writefile writer.py\n",
    "# Всегда выбирает бумагу\n",
    "def writer(observation, configuration):\n",
    "    return 1"
   ]
  },
  {
   "cell_type": "markdown",
   "id": "34230b3b-192d-48be-a0e7-56623f6792c9",
   "metadata": {},
   "source": [
    "Агент 004: Случайный выбор из 3 значений"
   ]
  },
  {
   "cell_type": "code",
   "execution_count": 8,
   "id": "ece920ba-ed17-4bf6-8e46-04dbdeddd09c",
   "metadata": {},
   "outputs": [
    {
     "name": "stdout",
     "output_type": "stream",
     "text": [
      "Overwriting rnd_agent.py\n"
     ]
    }
   ],
   "source": [
    "%%writefile rnd_agent.py\n",
    "import random\n",
    "# Случайный выбор из 3 значений\n",
    "def rnd_agent(observation, configuration):\n",
    "    return random.randint(0, 2)"
   ]
  },
  {
   "cell_type": "markdown",
   "id": "ec6e8795-0bcd-4c24-b074-4d1e7e0f2848",
   "metadata": {},
   "source": [
    "Агент 005: Случайный выбор из 2 значений: камень или бумага"
   ]
  },
  {
   "cell_type": "code",
   "execution_count": 9,
   "id": "588542b0-a83a-4c1f-b508-ccfc3407e7d6",
   "metadata": {},
   "outputs": [
    {
     "name": "stdout",
     "output_type": "stream",
     "text": [
      "Overwriting rnd_rp_agent.py\n"
     ]
    }
   ],
   "source": [
    "%%writefile rnd_rp_agent.py\n",
    "import random\n",
    "# Случайный выбор из 2 значений: камень или бумага\n",
    "def rnd_rp_agent(observation, configuration):\n",
    "    return random.randint(0, 1)"
   ]
  },
  {
   "cell_type": "markdown",
   "id": "c3e634d6-ed9b-4642-adbb-de626d9c884b",
   "metadata": {},
   "source": [
    "Агент 006: Случайный выбор из 2 значений: бумага или ножницы"
   ]
  },
  {
   "cell_type": "code",
   "execution_count": 10,
   "id": "e1d6eda2-6878-4324-ac15-7dce26a06792",
   "metadata": {},
   "outputs": [
    {
     "name": "stdout",
     "output_type": "stream",
     "text": [
      "Overwriting rnd_ps_agent.py\n"
     ]
    }
   ],
   "source": [
    "%%writefile rnd_ps_agent.py\n",
    "import random\n",
    "# Случайный выбор из 2 значений: бумага или ножницы\n",
    "def rnd_ps_agent(observation, configuration):\n",
    "    return random.randint(1, 2)"
   ]
  },
  {
   "cell_type": "markdown",
   "id": "20c2a4fa-4636-409d-8652-4e0f25ac373f",
   "metadata": {},
   "source": [
    "Агент 007: Случайный выбор из 2 значений: камень или ножницы"
   ]
  },
  {
   "cell_type": "code",
   "execution_count": 11,
   "id": "de5fedba-17e8-492f-921d-a32fad32fdcf",
   "metadata": {},
   "outputs": [
    {
     "name": "stdout",
     "output_type": "stream",
     "text": [
      "Overwriting rnd_rs_agent.py\n"
     ]
    }
   ],
   "source": [
    "%%writefile rnd_rs_agent.py\n",
    "import random\n",
    "# Случайный выбор из 2 значений: камень или ножницы\n",
    "def rnd_rs_agent(observation, configuration):\n",
    "    x = random.randint(0, 1)\n",
    "    if x==0:\n",
    "        return 0\n",
    "    else:\n",
    "        return 2"
   ]
  },
  {
   "cell_type": "markdown",
   "id": "92162ea0-915c-4a27-ab9d-9e116adb8dba",
   "metadata": {},
   "source": [
    "Агент 008: Выдает результат по циклу rock -> paper -> scissors"
   ]
  },
  {
   "cell_type": "code",
   "execution_count": 12,
   "id": "4b5b2c07-cef8-45e2-b64c-498b0de2c480",
   "metadata": {},
   "outputs": [
    {
     "name": "stdout",
     "output_type": "stream",
     "text": [
      "Overwriting r_p_s_agent.py\n"
     ]
    }
   ],
   "source": [
    "%%writefile r_p_s_agent.py\n",
    "import random\n",
    "# Выдает результат по циклу rock -> paper -> scissors\n",
    "last_action = None\n",
    "def r_p_s_agent(observation, configuration):\n",
    "    global last_action\n",
    "    if observation.step == 0:\n",
    "        # если это первый ход\n",
    "        last_action = random.randint(0, 2)\n",
    "    else:\n",
    "        last_action = (last_action + 1) % 3\n",
    "    return last_action\n",
    "    "
   ]
  },
  {
   "cell_type": "markdown",
   "id": "2a10b778-cac4-49af-9a1d-bff919d5e56c",
   "metadata": {},
   "source": [
    "Агент 009: Выдает результат по циклу scissors -> paper -> rock"
   ]
  },
  {
   "cell_type": "code",
   "execution_count": 13,
   "id": "721a98a3-c249-42c5-9773-aefe5d0f642a",
   "metadata": {},
   "outputs": [
    {
     "name": "stdout",
     "output_type": "stream",
     "text": [
      "Overwriting s_p_r_agent.py\n"
     ]
    }
   ],
   "source": [
    "%%writefile s_p_r_agent.py\n",
    "import random\n",
    "# Выдает результат по циклу scissors -> paper -> rock\n",
    "last_action = None\n",
    "def s_p_r_agent(observation, configuration):\n",
    "    global last_action\n",
    "    if observation.step == 0:\n",
    "        # если это первый ход\n",
    "        last_action = random.randint(0, 2)\n",
    "    else:\n",
    "        last_action = (last_action + 2) % 3\n",
    "    return last_action"
   ]
  },
  {
   "cell_type": "markdown",
   "id": "a7953367-d19f-40a8-bf8b-0f8376468e1c",
   "metadata": {},
   "source": [
    "Агент 010: Копирует последний ход противника"
   ]
  },
  {
   "cell_type": "code",
   "execution_count": 14,
   "id": "bdcee92c-fa40-4974-9f63-911027f7290d",
   "metadata": {},
   "outputs": [
    {
     "name": "stdout",
     "output_type": "stream",
     "text": [
      "Overwriting mimic.py\n"
     ]
    }
   ],
   "source": [
    "%%writefile mimic.py\n",
    "# Агент, который копирует последний ход оппонента\n",
    "import random\n",
    "\n",
    "def mimic(observation, configuration):\n",
    "    if observation.step == 0:\n",
    "        return random.randint(1, 2) # случайный ход на первом шаге\n",
    "    else:\n",
    "        return observation.lastOpponentAction  # копирует предыдущий ход противника"
   ]
  },
  {
   "cell_type": "markdown",
   "id": "fc9e43ce-0085-432c-a5b1-a74fff2feeb3",
   "metadata": {},
   "source": [
    "Агент 011: Смещается на +1 от последнего хода противника"
   ]
  },
  {
   "cell_type": "code",
   "execution_count": 15,
   "id": "ab46d268-796f-4624-89e9-e013d650cd4f",
   "metadata": {},
   "outputs": [
    {
     "name": "stdout",
     "output_type": "stream",
     "text": [
      "Overwriting mimic_forward.py\n"
     ]
    }
   ],
   "source": [
    "%%writefile mimic_forward.py\n",
    "# Агент, который смещается на +1 от последнего хода противника\n",
    "import random\n",
    "\n",
    "def mimic_forward(observation, configuration):\n",
    "    if observation.step == 0:\n",
    "        return random.randint(1, 2) # случайный ход на первом шаге\n",
    "    else:\n",
    "        return (observation.lastOpponentAction + 1) % 3  # смещение на +1 от последнего хода противника"
   ]
  },
  {
   "cell_type": "markdown",
   "id": "a98a7d84-9ee3-4113-bf8b-35a039253d3a",
   "metadata": {},
   "source": [
    "Агент 012: Смещается на -1 от последнего хода противника"
   ]
  },
  {
   "cell_type": "code",
   "execution_count": 16,
   "id": "7487288c-5f81-49a5-86a1-2123b1fbfd15",
   "metadata": {},
   "outputs": [
    {
     "name": "stdout",
     "output_type": "stream",
     "text": [
      "Overwriting mimic_backward.py\n"
     ]
    }
   ],
   "source": [
    "%%writefile mimic_backward.py\n",
    "# Агент, который смещается на +1 от последнего хода противника\n",
    "import random\n",
    "\n",
    "def mimic_backward(observation, configuration):\n",
    "    if observation.step == 0:\n",
    "        return random.randint(1, 2) # случайный ход на первом шаге\n",
    "    else:\n",
    "        return (observation.lastOpponentAction + 2) % 3  # смещение на -1 от последнего хода противника"
   ]
  },
  {
   "cell_type": "code",
   "execution_count": null,
   "id": "abcb70cc-cecb-4aa7-af28-c7a872198ec1",
   "metadata": {},
   "outputs": [],
   "source": []
  },
  {
   "cell_type": "markdown",
   "id": "c567eb48-1213-4023-afef-aa7db5bf908c",
   "metadata": {},
   "source": [
    "### Сравниваем результативность наших агентов в турнире\n",
    "(каждый агент соревнуется с каждым, победитель определяется как агент, победивший наибольшее число других агентов)"
   ]
  },
  {
   "cell_type": "code",
   "execution_count": 18,
   "id": "da48c4b2-4b58-47ce-91e9-c51e60b0cf71",
   "metadata": {},
   "outputs": [
    {
     "name": "stdout",
     "output_type": "stream",
     "text": [
      "The winner is mimic_forward.py !\n"
     ]
    }
   ],
   "source": [
    "# Турнир между агентами\n",
    "agents = ['mason.py', 'taylor.py', 'writer.py',\n",
    "          'rnd_agent.py', 'rnd_rp_agent.py', 'rnd_ps_agent.py',\n",
    "         'rnd_rs_agent.py', 'r_p_s_agent.py', 's_p_r_agent.py',\n",
    "         'mimic.py', 'mimic_forward.py', 'mimic_backward.py']\n",
    "\n",
    "n_agents = len(agents)\n",
    "\n",
    "# Инициализируем матрицу результатов\n",
    "scores = np.zeros((n_agents, n_agents))\n",
    "\n",
    "# Играем каждый агент против каждого\n",
    "for i in range(n_agents):\n",
    "    for j in range(i + 1, n_agents):\n",
    "        result = evaluate(\"rps\", [agents[i], agents[j]], configuration={\"episodeSteps\": 100, \"tieRewardThreshold\":1}, num_episodes=1)\n",
    "        scores[i][j] = result[0][0]  # сохраняем результат для агента i\n",
    "        scores[j][i] = result[0][1]  # сохраняем результат для агента j\n",
    "\n",
    "# Определяем победителя\n",
    "vic = []\n",
    "for i in range(n_agents):\n",
    "    cnt_vic = sum(1 for j in range(n_agents) if scores[i][j] > 0)  # считаем победы агента\n",
    "    vic.append(cnt_vic)\n",
    "\n",
    "# Определяем индексы победителей\n",
    "i_victors = [i for i, v in enumerate(vic) if v == max(vic)]\n",
    "if len(i_victors) > 1:\n",
    "    print(\"The winners are\", '\\n', *[agents[i] for i in i_victors], \"!\")\n",
    "else:\n",
    "    print(\"The winner is\", agents[i_victors[0]], \"!\")"
   ]
  },
  {
   "cell_type": "markdown",
   "id": "3ee714f1-2502-45bb-977d-27efd2d5a6a2",
   "metadata": {},
   "source": [
    "### В нашем случае победил агент, реализующий модель копирования действий противника со смещением на +1.\n",
    "\n",
    "Требуется учитывать, что результат при повторном запуске может меняться, поскольку многие агенты работают на базе случайных чисел."
   ]
  },
  {
   "cell_type": "code",
   "execution_count": null,
   "id": "065459ed-d1d5-4b23-9358-c01fde501bb7",
   "metadata": {},
   "outputs": [],
   "source": []
  }
 ],
 "metadata": {
  "kernelspec": {
   "display_name": "Python 3 (ipykernel)",
   "language": "python",
   "name": "python3"
  },
  "language_info": {
   "codemirror_mode": {
    "name": "ipython",
    "version": 3
   },
   "file_extension": ".py",
   "mimetype": "text/x-python",
   "name": "python",
   "nbconvert_exporter": "python",
   "pygments_lexer": "ipython3",
   "version": "3.12.4"
  }
 },
 "nbformat": 4,
 "nbformat_minor": 5
}
